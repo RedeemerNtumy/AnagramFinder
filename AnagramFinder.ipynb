{
 "cells": [
  {
   "cell_type": "code",
   "execution_count": 14,
   "metadata": {},
   "outputs": [],
   "source": [
    "def a(*a):\n",
    "    print(list(a))\n",
    "    b=[]\n",
    "    c=[d.split() for d in list(a)]\n",
    "    for i in c:\n",
    "        for j in i:\n",
    "            l=j.split()\n",
    "            print(l)\n",
    "    \n",
    "    \n",
    "    \n",
    "    "
   ]
  },
  {
   "cell_type": "code",
   "execution_count": 15,
   "metadata": {},
   "outputs": [
    {
     "name": "stdout",
     "output_type": "stream",
     "text": [
      "['Red', 'Green']\n",
      "['Red']\n",
      "['Green']\n"
     ]
    }
   ],
   "source": [
    "a(\"Red\",\"Green\")\n"
   ]
  },
  {
   "cell_type": "code",
   "execution_count": 3,
   "metadata": {},
   "outputs": [
    {
     "ename": "NameError",
     "evalue": "name 'b' is not defined",
     "output_type": "error",
     "traceback": [
      "\u001b[1;31m---------------------------------------------------------------------------\u001b[0m",
      "\u001b[1;31mNameError\u001b[0m                                 Traceback (most recent call last)",
      "\u001b[1;32m<ipython-input-3-6fac7a639ca6>\u001b[0m in \u001b[0;36m<module>\u001b[1;34m\u001b[0m\n\u001b[1;32m----> 1\u001b[1;33m \u001b[0mtype\u001b[0m\u001b[1;33m(\u001b[0m\u001b[0mb\u001b[0m\u001b[1;33m)\u001b[0m\u001b[1;33m\u001b[0m\u001b[1;33m\u001b[0m\u001b[0m\n\u001b[0m",
      "\u001b[1;31mNameError\u001b[0m: name 'b' is not defined"
     ]
    }
   ],
   "source": []
  },
  {
   "cell_type": "code",
   "execution_count": null,
   "metadata": {},
   "outputs": [],
   "source": [
    "def isAnagram(*words):\n",
    "    import numpy as np\n",
    "    Anagram_dict = {\"a\": 2, \"b\": 3, \"c\": 5, \"d\": 7, \"e\": 11, \"f\": 13, \"g\": 17, \"h\": 19, \"i\": 23, \"j\": 29, \"k\": 31, \"l\": 37,\n",
    "                \"m\": 41, \"n\": 43, \"o\": 47, \"p\": 53, \"q\": 59, \"r\": 61, \"s\": 67, \"t\": 71, \"u\": 73, \"v\": 79, \"w\": 83, \"x\": 89, \"y\": 97, \"z\": 101,\"A\": 2, \"B\": 3, \"C\": 5, \"D\": 7, \"E\": 11, \"F\": 13, \"G\": 17, \"H\": 19, \"I\": 23, \"J\": 29, \"K\": 31, \"L\": 37,\n",
    "                \"M\": 41, \"N\": 43, \"O\": 47, \"P\": 53, \"Q\": 59, \"R\": 61, \"S\": 67, \"T\": 71, \"U\": 73, \"V\": 79, \"W\": 83, \"X\": 89, \"Y\": 97, \"Z\": 101}\n",
    "    words=list(words)\n",
    "    list_word=[]\n",
    "    split_word=[word.split() for word in words]\n",
    "    for i in split_word:\n",
    "        for m in i:\n",
    "            a=m.split()\n",
    "            for b in a:\n",
    "                list_word.extend(Anagram_dict[b])\n",
    "                print(list_word)\n",
    "                print(1+2)\n",
    "\n"
   ]
  }
 ],
 "metadata": {
  "kernelspec": {
   "display_name": "Python 3",
   "language": "python",
   "name": "python3"
  },
  "language_info": {
   "codemirror_mode": {
    "name": "ipython",
    "version": 3
   },
   "file_extension": ".py",
   "mimetype": "text/x-python",
   "name": "python",
   "nbconvert_exporter": "python",
   "pygments_lexer": "ipython3",
   "version": "3.7.6"
  }
 },
 "nbformat": 4,
 "nbformat_minor": 2
}
